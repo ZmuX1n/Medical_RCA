{
 "cells": [
  {
   "cell_type": "code",
   "execution_count": 46,
   "id": "initial_id",
   "metadata": {
    "collapsed": true,
    "ExecuteTime": {
     "end_time": "2023-08-22T07:22:08.078481500Z",
     "start_time": "2023-08-22T07:22:08.038480800Z"
    }
   },
   "outputs": [],
   "source": [
    "from pyrca.analyzers.bayesian import BayesianNetwork\n",
    "import pandas as pd\n",
    "import json"
   ]
  },
  {
   "cell_type": "code",
   "execution_count": 47,
   "outputs": [],
   "source": [
    "with open('data/data.json', encoding=\"utf-8\") as f:\n",
    "    data = json.load(f)\n",
    "    \n",
    "data = {k:v for k,v in list(data.items())[:20]}"
   ],
   "metadata": {
    "collapsed": false,
    "ExecuteTime": {
     "end_time": "2023-08-22T07:22:08.078481500Z",
     "start_time": "2023-08-22T07:22:08.056481500Z"
    }
   },
   "id": "f2eeafedb60ab222"
  },
  {
   "cell_type": "code",
   "execution_count": 48,
   "outputs": [],
   "source": [
    "symptoms = set()\n",
    "for disease in data.values():\n",
    "    symptoms.update(disease['keys']['common_keys'])"
   ],
   "metadata": {
    "collapsed": false,
    "ExecuteTime": {
     "end_time": "2023-08-22T07:22:08.086486100Z",
     "start_time": "2023-08-22T07:22:08.070481200Z"
    }
   },
   "id": "55938cd561e9ee03"
  },
  {
   "cell_type": "code",
   "execution_count": 49,
   "outputs": [],
   "source": [
    "nodes = list(symptoms | data.keys())\n",
    "df = pd.DataFrame(0, index=list(data.keys()), columns=list(symptoms))\n",
    "graph_df = pd.DataFrame(0, index=nodes, columns=nodes)\n",
    "for disease, info in data.items():\n",
    "    for symptom in info['keys']['common_keys']:\n",
    "        df.at[disease, symptom] = 1\n",
    "for disease, info in data.items():\n",
    "    for symptom in info['keys']['common_keys']:\n",
    "        graph_df.at[disease, symptom] = 1"
   ],
   "metadata": {
    "collapsed": false,
    "ExecuteTime": {
     "end_time": "2023-08-22T07:22:08.098482Z",
     "start_time": "2023-08-22T07:22:08.085482Z"
    }
   },
   "id": "c182d8770f358545"
  },
  {
   "cell_type": "code",
   "execution_count": 50,
   "outputs": [
    {
     "data": {
      "text/plain": "                                         产后抑郁  精神状态异常  12岁之前起病  \\\n产后抑郁                                        0       0        0   \n精神状态异常                                      0       0        0   \n12岁之前起病                                     0       0        0   \n自发、令人苦恼、不愉悦的生殖器充血以及感觉到即将发生性高潮（PGAD/GPD）     0       0        0   \n偏执                                          0       0        0   \n...                                       ...     ...      ...   \n无法遵照指令或难以完成职责和分配的任务（非误解或对抗行为所引起）            0       0        0   \n感官现象                                        0       0        0   \n回避、厌恶或不愿参加需要持续脑力劳动的任务                       0       0        0   \n呼吸迟缓                                        0       0        0   \n疲劳                                          0       0        0   \n\n                                         自发、令人苦恼、不愉悦的生殖器充血以及感觉到即将发生性高潮（PGAD/GPD）  \\\n产后抑郁                                                                           0   \n精神状态异常                                                                         0   \n12岁之前起病                                                                        0   \n自发、令人苦恼、不愉悦的生殖器充血以及感觉到即将发生性高潮（PGAD/GPD）                                        0   \n偏执                                                                             0   \n...                                                                          ...   \n无法遵照指令或难以完成职责和分配的任务（非误解或对抗行为所引起）                                               0   \n感官现象                                                                           0   \n回避、厌恶或不愿参加需要持续脑力劳动的任务                                                          0   \n呼吸迟缓                                                                           0   \n疲劳                                                                             0   \n\n                                         偏执  愤怒和易激惹  严重的功能缺损  \\\n产后抑郁                                      0       0        0   \n精神状态异常                                    0       0        0   \n12岁之前起病                                   0       0        0   \n自发、令人苦恼、不愉悦的生殖器充血以及感觉到即将发生性高潮（PGAD/GPD）   0       0        0   \n偏执                                        0       0        0   \n...                                      ..     ...      ...   \n无法遵照指令或难以完成职责和分配的任务（非误解或对抗行为所引起）          0       0        0   \n感官现象                                      0       0        0   \n回避、厌恶或不愿参加需要持续脑力劳动的任务                     0       0        0   \n呼吸迟缓                                      0       0        0   \n疲劳                                        0       0        0   \n\n                                         高热＞39.5°C(＞103°F)  在休闲活动中不能保持安静  \\\n产后抑郁                                                     0             0   \n精神状态异常                                                   0             0   \n12岁之前起病                                                  0             0   \n自发、令人苦恼、不愉悦的生殖器充血以及感觉到即将发生性高潮（PGAD/GPD）                  0             0   \n偏执                                                       0             0   \n...                                                    ...           ...   \n无法遵照指令或难以完成职责和分配的任务（非误解或对抗行为所引起）                         0             0   \n感官现象                                                     0             0   \n回避、厌恶或不愿参加需要持续脑力劳动的任务                                    0             0   \n呼吸迟缓                                                     0             0   \n疲劳                                                       0             0   \n\n                                         女性性功能障碍  ...  无最近的伤恸病史  常常说太多的话  \\\n产后抑郁                                           0  ...         0        0   \n精神状态异常                                         0  ...         0        0   \n12岁之前起病                                        0  ...         0        0   \n自发、令人苦恼、不愉悦的生殖器充血以及感觉到即将发生性高潮（PGAD/GPD）        0  ...         0        0   \n偏执                                             0  ...         0        0   \n...                                          ...  ...       ...      ...   \n无法遵照指令或难以完成职责和分配的任务（非误解或对抗行为所引起）               0  ...         0        0   \n感官现象                                           0  ...         0        0   \n回避、厌恶或不愿参加需要持续脑力劳动的任务                          0  ...         0        0   \n呼吸迟缓                                           0  ...         0        0   \n疲劳                                             0  ...         0        0   \n\n                                         冲动行为  精力下降或疲劳感增加  5-羟色胺综合征  \\\n产后抑郁                                        0           1         0   \n精神状态异常                                      0           0         0   \n12岁之前起病                                     0           0         0   \n自发、令人苦恼、不愉悦的生殖器充血以及感觉到即将发生性高潮（PGAD/GPD）     0           0         0   \n偏执                                          0           0         0   \n...                                       ...         ...       ...   \n无法遵照指令或难以完成职责和分配的任务（非误解或对抗行为所引起）            0           0         0   \n感官现象                                        0           0         0   \n回避、厌恶或不愿参加需要持续脑力劳动的任务                       0           0         0   \n呼吸迟缓                                        0           0         0   \n疲劳                                          0           0         0   \n\n                                         无法遵照指令或难以完成职责和分配的任务（非误解或对抗行为所引起）  \\\n产后抑郁                                                                    0   \n精神状态异常                                                                  0   \n12岁之前起病                                                                 0   \n自发、令人苦恼、不愉悦的生殖器充血以及感觉到即将发生性高潮（PGAD/GPD）                                 0   \n偏执                                                                      0   \n...                                                                   ...   \n无法遵照指令或难以完成职责和分配的任务（非误解或对抗行为所引起）                                        0   \n感官现象                                                                    0   \n回避、厌恶或不愿参加需要持续脑力劳动的任务                                                   0   \n呼吸迟缓                                                                    0   \n疲劳                                                                      0   \n\n                                         感官现象  回避、厌恶或不愿参加需要持续脑力劳动的任务  呼吸迟缓  疲劳  \n产后抑郁                                        0                      0     0   0  \n精神状态异常                                      0                      0     0   0  \n12岁之前起病                                     0                      0     0   0  \n自发、令人苦恼、不愉悦的生殖器充血以及感觉到即将发生性高潮（PGAD/GPD）     0                      0     0   0  \n偏执                                          0                      0     0   0  \n...                                       ...                    ...   ...  ..  \n无法遵照指令或难以完成职责和分配的任务（非误解或对抗行为所引起）            0                      0     0   0  \n感官现象                                        0                      0     0   0  \n回避、厌恶或不愿参加需要持续脑力劳动的任务                       0                      0     0   0  \n呼吸迟缓                                        0                      0     0   0  \n疲劳                                          0                      0     0   0  \n\n[128 rows x 128 columns]",
      "text/html": "<div>\n<style scoped>\n    .dataframe tbody tr th:only-of-type {\n        vertical-align: middle;\n    }\n\n    .dataframe tbody tr th {\n        vertical-align: top;\n    }\n\n    .dataframe thead th {\n        text-align: right;\n    }\n</style>\n<table border=\"1\" class=\"dataframe\">\n  <thead>\n    <tr style=\"text-align: right;\">\n      <th></th>\n      <th>产后抑郁</th>\n      <th>精神状态异常</th>\n      <th>12岁之前起病</th>\n      <th>自发、令人苦恼、不愉悦的生殖器充血以及感觉到即将发生性高潮（PGAD/GPD）</th>\n      <th>偏执</th>\n      <th>愤怒和易激惹</th>\n      <th>严重的功能缺损</th>\n      <th>高热＞39.5°C(＞103°F)</th>\n      <th>在休闲活动中不能保持安静</th>\n      <th>女性性功能障碍</th>\n      <th>...</th>\n      <th>无最近的伤恸病史</th>\n      <th>常常说太多的话</th>\n      <th>冲动行为</th>\n      <th>精力下降或疲劳感增加</th>\n      <th>5-羟色胺综合征</th>\n      <th>无法遵照指令或难以完成职责和分配的任务（非误解或对抗行为所引起）</th>\n      <th>感官现象</th>\n      <th>回避、厌恶或不愿参加需要持续脑力劳动的任务</th>\n      <th>呼吸迟缓</th>\n      <th>疲劳</th>\n    </tr>\n  </thead>\n  <tbody>\n    <tr>\n      <th>产后抑郁</th>\n      <td>0</td>\n      <td>0</td>\n      <td>0</td>\n      <td>0</td>\n      <td>0</td>\n      <td>0</td>\n      <td>0</td>\n      <td>0</td>\n      <td>0</td>\n      <td>0</td>\n      <td>...</td>\n      <td>0</td>\n      <td>0</td>\n      <td>0</td>\n      <td>1</td>\n      <td>0</td>\n      <td>0</td>\n      <td>0</td>\n      <td>0</td>\n      <td>0</td>\n      <td>0</td>\n    </tr>\n    <tr>\n      <th>精神状态异常</th>\n      <td>0</td>\n      <td>0</td>\n      <td>0</td>\n      <td>0</td>\n      <td>0</td>\n      <td>0</td>\n      <td>0</td>\n      <td>0</td>\n      <td>0</td>\n      <td>0</td>\n      <td>...</td>\n      <td>0</td>\n      <td>0</td>\n      <td>0</td>\n      <td>0</td>\n      <td>0</td>\n      <td>0</td>\n      <td>0</td>\n      <td>0</td>\n      <td>0</td>\n      <td>0</td>\n    </tr>\n    <tr>\n      <th>12岁之前起病</th>\n      <td>0</td>\n      <td>0</td>\n      <td>0</td>\n      <td>0</td>\n      <td>0</td>\n      <td>0</td>\n      <td>0</td>\n      <td>0</td>\n      <td>0</td>\n      <td>0</td>\n      <td>...</td>\n      <td>0</td>\n      <td>0</td>\n      <td>0</td>\n      <td>0</td>\n      <td>0</td>\n      <td>0</td>\n      <td>0</td>\n      <td>0</td>\n      <td>0</td>\n      <td>0</td>\n    </tr>\n    <tr>\n      <th>自发、令人苦恼、不愉悦的生殖器充血以及感觉到即将发生性高潮（PGAD/GPD）</th>\n      <td>0</td>\n      <td>0</td>\n      <td>0</td>\n      <td>0</td>\n      <td>0</td>\n      <td>0</td>\n      <td>0</td>\n      <td>0</td>\n      <td>0</td>\n      <td>0</td>\n      <td>...</td>\n      <td>0</td>\n      <td>0</td>\n      <td>0</td>\n      <td>0</td>\n      <td>0</td>\n      <td>0</td>\n      <td>0</td>\n      <td>0</td>\n      <td>0</td>\n      <td>0</td>\n    </tr>\n    <tr>\n      <th>偏执</th>\n      <td>0</td>\n      <td>0</td>\n      <td>0</td>\n      <td>0</td>\n      <td>0</td>\n      <td>0</td>\n      <td>0</td>\n      <td>0</td>\n      <td>0</td>\n      <td>0</td>\n      <td>...</td>\n      <td>0</td>\n      <td>0</td>\n      <td>0</td>\n      <td>0</td>\n      <td>0</td>\n      <td>0</td>\n      <td>0</td>\n      <td>0</td>\n      <td>0</td>\n      <td>0</td>\n    </tr>\n    <tr>\n      <th>...</th>\n      <td>...</td>\n      <td>...</td>\n      <td>...</td>\n      <td>...</td>\n      <td>...</td>\n      <td>...</td>\n      <td>...</td>\n      <td>...</td>\n      <td>...</td>\n      <td>...</td>\n      <td>...</td>\n      <td>...</td>\n      <td>...</td>\n      <td>...</td>\n      <td>...</td>\n      <td>...</td>\n      <td>...</td>\n      <td>...</td>\n      <td>...</td>\n      <td>...</td>\n      <td>...</td>\n    </tr>\n    <tr>\n      <th>无法遵照指令或难以完成职责和分配的任务（非误解或对抗行为所引起）</th>\n      <td>0</td>\n      <td>0</td>\n      <td>0</td>\n      <td>0</td>\n      <td>0</td>\n      <td>0</td>\n      <td>0</td>\n      <td>0</td>\n      <td>0</td>\n      <td>0</td>\n      <td>...</td>\n      <td>0</td>\n      <td>0</td>\n      <td>0</td>\n      <td>0</td>\n      <td>0</td>\n      <td>0</td>\n      <td>0</td>\n      <td>0</td>\n      <td>0</td>\n      <td>0</td>\n    </tr>\n    <tr>\n      <th>感官现象</th>\n      <td>0</td>\n      <td>0</td>\n      <td>0</td>\n      <td>0</td>\n      <td>0</td>\n      <td>0</td>\n      <td>0</td>\n      <td>0</td>\n      <td>0</td>\n      <td>0</td>\n      <td>...</td>\n      <td>0</td>\n      <td>0</td>\n      <td>0</td>\n      <td>0</td>\n      <td>0</td>\n      <td>0</td>\n      <td>0</td>\n      <td>0</td>\n      <td>0</td>\n      <td>0</td>\n    </tr>\n    <tr>\n      <th>回避、厌恶或不愿参加需要持续脑力劳动的任务</th>\n      <td>0</td>\n      <td>0</td>\n      <td>0</td>\n      <td>0</td>\n      <td>0</td>\n      <td>0</td>\n      <td>0</td>\n      <td>0</td>\n      <td>0</td>\n      <td>0</td>\n      <td>...</td>\n      <td>0</td>\n      <td>0</td>\n      <td>0</td>\n      <td>0</td>\n      <td>0</td>\n      <td>0</td>\n      <td>0</td>\n      <td>0</td>\n      <td>0</td>\n      <td>0</td>\n    </tr>\n    <tr>\n      <th>呼吸迟缓</th>\n      <td>0</td>\n      <td>0</td>\n      <td>0</td>\n      <td>0</td>\n      <td>0</td>\n      <td>0</td>\n      <td>0</td>\n      <td>0</td>\n      <td>0</td>\n      <td>0</td>\n      <td>...</td>\n      <td>0</td>\n      <td>0</td>\n      <td>0</td>\n      <td>0</td>\n      <td>0</td>\n      <td>0</td>\n      <td>0</td>\n      <td>0</td>\n      <td>0</td>\n      <td>0</td>\n    </tr>\n    <tr>\n      <th>疲劳</th>\n      <td>0</td>\n      <td>0</td>\n      <td>0</td>\n      <td>0</td>\n      <td>0</td>\n      <td>0</td>\n      <td>0</td>\n      <td>0</td>\n      <td>0</td>\n      <td>0</td>\n      <td>...</td>\n      <td>0</td>\n      <td>0</td>\n      <td>0</td>\n      <td>0</td>\n      <td>0</td>\n      <td>0</td>\n      <td>0</td>\n      <td>0</td>\n      <td>0</td>\n      <td>0</td>\n    </tr>\n  </tbody>\n</table>\n<p>128 rows × 128 columns</p>\n</div>"
     },
     "execution_count": 50,
     "metadata": {},
     "output_type": "execute_result"
    }
   ],
   "source": [
    "graph_df"
   ],
   "metadata": {
    "collapsed": false,
    "ExecuteTime": {
     "end_time": "2023-08-22T07:22:08.121481700Z",
     "start_time": "2023-08-22T07:22:08.100482400Z"
    }
   },
   "id": "552a1c5626d631fa"
  },
  {
   "cell_type": "code",
   "execution_count": 51,
   "outputs": [],
   "source": [
    "model = BayesianNetwork(config=BayesianNetwork.config_class(graph=graph_df))"
   ],
   "metadata": {
    "collapsed": false,
    "ExecuteTime": {
     "end_time": "2023-08-22T07:22:08.172484400Z",
     "start_time": "2023-08-22T07:22:08.115481500Z"
    }
   },
   "id": "c9c2086bba669d69"
  },
  {
   "cell_type": "code",
   "execution_count": 52,
   "outputs": [],
   "source": [
    "test_data = [[0 for i in range(128)] for j in range(128)]\n",
    "data_df = pd.DataFrame(test_data, columns=nodes)\n",
    "for i, (disease, info) in enumerate(data.items()):\n",
    "    for symptom in info['keys']['common_keys']:\n",
    "        data_df.at[i, symptom] = 1\n",
    "        data_df.at[i, disease] = 1"
   ],
   "metadata": {
    "collapsed": false,
    "ExecuteTime": {
     "end_time": "2023-08-22T07:22:08.192481800Z",
     "start_time": "2023-08-22T07:22:08.135480700Z"
    }
   },
   "id": "e783ca52b22e97c4"
  },
  {
   "cell_type": "code",
   "execution_count": 53,
   "outputs": [],
   "source": [
    "# from pyrca.applications.example.rca import RCAEngine\n",
    "# engine = RCAEngine()\n",
    "# engine.build_causal_graph(\n",
    "#     df=graph_df,\n",
    "#     run_pdag2dag=True,\n",
    "#     max_num_points=5000000,\n",
    "#     verbose=True\n",
    "# )\n",
    "# bn = engine.train_bayesian_network(dfs=[data_df])\n",
    "# bn.print_probabilities()"
   ],
   "metadata": {
    "collapsed": false,
    "ExecuteTime": {
     "end_time": "2023-08-22T07:22:08.192481800Z",
     "start_time": "2023-08-22T07:22:08.145481Z"
    }
   },
   "id": "db56029a983a8a69"
  },
  {
   "cell_type": "code",
   "execution_count": 54,
   "outputs": [
    {
     "name": "stderr",
     "output_type": "stream",
     "text": [
      "WARNING:root:Replacing existing CPD for 危险因素\n",
      "WARNING:root:Replacing existing CPD for 存在的危险因素\n",
      "WARNING:root:Replacing existing CPD for 注意力不集中\n"
     ]
    }
   ],
   "source": [
    "model.train([data_df])"
   ],
   "metadata": {
    "collapsed": false,
    "ExecuteTime": {
     "end_time": "2023-08-22T07:22:08.505164500Z",
     "start_time": "2023-08-22T07:22:08.162481100Z"
    }
   },
   "id": "bcb1f0dbf6025db1"
  },
  {
   "cell_type": "code",
   "execution_count": 55,
   "outputs": [
    {
     "name": "stderr",
     "output_type": "stream",
     "text": [
      "WARNING:root:Replacing existing CPD for 产后抑郁\n",
      "WARNING:root:Replacing existing CPD for 女性性功能障碍\n",
      "WARNING:root:Replacing existing CPD for 苯丙胺过量\n",
      "WARNING:root:Replacing existing CPD for 儿童抑郁症\n",
      "WARNING:root:Replacing existing CPD for 阿片类药物过量\n",
      "WARNING:root:Replacing existing CPD for 人格障碍\n",
      "WARNING:root:Replacing existing CPD for 成人注意缺陷多动症\n",
      "WARNING:root:Replacing existing CPD for 广泛性焦虑障碍\n",
      "WARNING:root:Replacing existing CPD for 血管性痴呆\n",
      "WARNING:root:Replacing existing CPD for 精神性烦渴\n",
      "WARNING:root:Replacing existing CPD for 恐怖症\n",
      "WARNING:root:Replacing existing CPD for 额颞叶痴呆\n",
      "WARNING:root:Replacing existing CPD for 苯二氮卓药物过量\n",
      "WARNING:root:Replacing existing CPD for 强迫症\n",
      "WARNING:root:Replacing existing CPD for 酒精戒断\n",
      "WARNING:root:Replacing existing CPD for 自杀风险缓解\n",
      "WARNING:root:Replacing existing CPD for 5-羟色胺综合征\n"
     ]
    },
    {
     "name": "stdout",
     "output_type": "stream",
     "text": [
      "WARNING: Metric 痴呆评估 is not in the Bayesian network.\n",
      "WARNING: Metric 非故意体重减轻的评估 is not in the Bayesian network.\n",
      "WARNING: Metric 慢性酒精使用概述 is not in the Bayesian network.\n"
     ]
    },
    {
     "name": "stderr",
     "output_type": "stream",
     "text": [
      "Finding Elimination Order: : 100%|██████████| 1/1 [00:00<00:00, 1004.38it/s]\n",
      "Eliminating: 阿片类药物过量: 100%|██████████| 1/1 [00:00<00:00, 999.12it/s]\n",
      "Finding Elimination Order: : 100%|██████████| 1/1 [00:00<?, ?it/s]\n",
      "Eliminating: 人格障碍: 100%|██████████| 1/1 [00:00<00:00, 995.56it/s]\n",
      "Finding Elimination Order: : 100%|██████████| 1/1 [00:00<00:00, 1006.31it/s]\n",
      "Eliminating: 阿片类药物过量: 100%|██████████| 1/1 [00:00<00:00, 997.93it/s]\n",
      "Finding Elimination Order: : 100%|██████████| 1/1 [00:00<?, ?it/s]\n",
      "Eliminating: ROOT_阿片类药物过量: 100%|██████████| 1/1 [00:00<?, ?it/s]\n",
      "Finding Elimination Order: : 100%|██████████| 1/1 [00:00<00:00, 1000.79it/s]\n",
      "Eliminating: 人格障碍: 100%|██████████| 1/1 [00:00<00:00, 1000.31it/s]\n",
      "Finding Elimination Order: : 100%|██████████| 1/1 [00:00<?, ?it/s]\n",
      "Eliminating: ROOT_人格障碍: 100%|██████████| 1/1 [00:00<?, ?it/s]\n"
     ]
    }
   ],
   "source": [
    "\n",
    "results = model.find_root_causes([\"瞳孔缩小\", \"古怪思维\"])"
   ],
   "metadata": {
    "collapsed": false,
    "ExecuteTime": {
     "end_time": "2023-08-22T07:22:08.740171400Z",
     "start_time": "2023-08-22T07:22:08.506165300Z"
    }
   },
   "id": "1fe067857eeed6ad"
  },
  {
   "cell_type": "code",
   "execution_count": 56,
   "outputs": [
    {
     "data": {
      "text/plain": "{'root_cause_nodes': [('ROOT_阿片类药物过量', 0.9802), ('ROOT_人格障碍', 0.9802)],\n 'root_cause_paths': {'ROOT_阿片类药物过量': [(0.9900666666666668,\n    [('ROOT_阿片类药物过量', 0.9802), ('阿片类药物过量', 0.99), ('瞳孔缩小', 1)])],\n  'ROOT_人格障碍': [(0.9900666666666668,\n    [('ROOT_人格障碍', 0.9802), ('人格障碍', 0.99), ('古怪思维', 1)])]}}"
     },
     "execution_count": 56,
     "metadata": {},
     "output_type": "execute_result"
    }
   ],
   "source": [
    "results.to_dict()"
   ],
   "metadata": {
    "collapsed": false,
    "ExecuteTime": {
     "end_time": "2023-08-22T07:22:08.785169100Z",
     "start_time": "2023-08-22T07:22:08.742166100Z"
    }
   },
   "id": "19cd4eeb72f381e3"
  },
  {
   "cell_type": "code",
   "execution_count": 56,
   "outputs": [],
   "source": [],
   "metadata": {
    "collapsed": false,
    "ExecuteTime": {
     "end_time": "2023-08-22T07:22:08.791169Z",
     "start_time": "2023-08-22T07:22:08.757165900Z"
    }
   },
   "id": "d26fe58ca6df0f57"
  }
 ],
 "metadata": {
  "kernelspec": {
   "display_name": "Python 3",
   "language": "python",
   "name": "python3"
  },
  "language_info": {
   "codemirror_mode": {
    "name": "ipython",
    "version": 2
   },
   "file_extension": ".py",
   "mimetype": "text/x-python",
   "name": "python",
   "nbconvert_exporter": "python",
   "pygments_lexer": "ipython2",
   "version": "2.7.6"
  }
 },
 "nbformat": 4,
 "nbformat_minor": 5
}
